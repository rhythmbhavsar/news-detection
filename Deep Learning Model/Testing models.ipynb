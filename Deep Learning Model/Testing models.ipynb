{
 "cells": [
  {
   "cell_type": "code",
   "execution_count": 1,
   "id": "0d73b65a",
   "metadata": {},
   "outputs": [
    {
     "name": "stderr",
     "output_type": "stream",
     "text": [
      "C:\\Users\\rhyth\\anaconda3\\lib\\site-packages\\scipy\\__init__.py:146: UserWarning: A NumPy version >=1.16.5 and <1.23.0 is required for this version of SciPy (detected version 1.26.2\n",
      "  warnings.warn(f\"A NumPy version >={np_minversion} and <{np_maxversion}\"\n"
     ]
    },
    {
     "name": "stdout",
     "output_type": "stream",
     "text": [
      "WARNING:tensorflow:From C:\\Users\\rhyth\\anaconda3\\lib\\site-packages\\keras\\src\\losses.py:2976: The name tf.losses.sparse_softmax_cross_entropy is deprecated. Please use tf.compat.v1.losses.sparse_softmax_cross_entropy instead.\n",
      "\n"
     ]
    }
   ],
   "source": [
    "import pandas as pd\n",
    "from keras.preprocessing.sequence import pad_sequences\n",
    "from keras.models import load_model\n",
    "import joblib\n",
    "import nltk\n",
    "from nltk.corpus import stopwords\n",
    "from keras.utils import to_categorical\n",
    "from nltk.stem import WordNetLemmatizer"
   ]
  },
  {
   "cell_type": "code",
   "execution_count": 2,
   "id": "bfff9bf1",
   "metadata": {},
   "outputs": [],
   "source": [
    "objects = joblib.load('tokenizer_label_encoder.joblib')\n",
    "tokenizer = objects['tokenizer']\n",
    "label_encoder = objects['target_label_encoder']"
   ]
  },
  {
   "cell_type": "code",
   "execution_count": 3,
   "id": "14006971",
   "metadata": {},
   "outputs": [
    {
     "name": "stdout",
     "output_type": "stream",
     "text": [
      "WARNING:tensorflow:From C:\\Users\\rhyth\\anaconda3\\lib\\site-packages\\keras\\src\\backend.py:1398: The name tf.executing_eagerly_outside_functions is deprecated. Please use tf.compat.v1.executing_eagerly_outside_functions instead.\n",
      "\n"
     ]
    }
   ],
   "source": [
    "model5 = load_model('my_model5.h5')\n",
    "model10 = load_model('my_model10.h5')\n",
    "model20 = load_model('my_model20.h5')\n",
    "model30 = load_model('my_model30.h5')\n",
    "model40 = load_model('my_model40.h5')"
   ]
  },
  {
   "cell_type": "code",
   "execution_count": 4,
   "id": "b34ffbb9",
   "metadata": {},
   "outputs": [],
   "source": [
    "def preprocess_text(text):\n",
    "    tokens = nltk.word_tokenize(text)\n",
    "    stop_words = set(stopwords.words('english'))\n",
    "    filtered_tokens = [token for token in tokens if token not in stop_words]\n",
    "    lemmatizer = WordNetLemmatizer()\n",
    "    lemmatized_tokens = [lemmatizer.lemmatize(token) for token in filtered_tokens]\n",
    "    return ' '.join(lemmatized_tokens)"
   ]
  },
  {
   "cell_type": "code",
   "execution_count": 5,
   "id": "0e66f79b",
   "metadata": {},
   "outputs": [
    {
     "data": {
      "text/html": [
       "<div>\n",
       "<style scoped>\n",
       "    .dataframe tbody tr th:only-of-type {\n",
       "        vertical-align: middle;\n",
       "    }\n",
       "\n",
       "    .dataframe tbody tr th {\n",
       "        vertical-align: top;\n",
       "    }\n",
       "\n",
       "    .dataframe thead th {\n",
       "        text-align: right;\n",
       "    }\n",
       "</style>\n",
       "<table border=\"1\" class=\"dataframe\">\n",
       "  <thead>\n",
       "    <tr style=\"text-align: right;\">\n",
       "      <th></th>\n",
       "      <th>Headline</th>\n",
       "      <th>Short Description</th>\n",
       "      <th>Author</th>\n",
       "      <th>Category</th>\n",
       "    </tr>\n",
       "  </thead>\n",
       "  <tbody>\n",
       "    <tr>\n",
       "      <th>0</th>\n",
       "      <td>WHO Says All Countries Should Tax Sugary Drink...</td>\n",
       "      <td>A 20 percent tax could reduce the consumption ...</td>\n",
       "      <td>Stephanie Nebehay, Reuters</td>\n",
       "      <td>HEALTHY LIVING</td>\n",
       "    </tr>\n",
       "    <tr>\n",
       "      <th>1</th>\n",
       "      <td>This Fake Town Exists Solely To Test Driverles...</td>\n",
       "      <td>Self-driving vehicles now have a neighborhood ...</td>\n",
       "      <td>Jenny Che</td>\n",
       "      <td>BUSINESS</td>\n",
       "    </tr>\n",
       "    <tr>\n",
       "      <th>2</th>\n",
       "      <td>15 Different, Delicious Ways To Interpret Gree...</td>\n",
       "      <td>Pizza, pasta, grilled cheese... you name it.</td>\n",
       "      <td>Julie R. Thomson</td>\n",
       "      <td>FOOD &amp; DRINK</td>\n",
       "    </tr>\n",
       "    <tr>\n",
       "      <th>3</th>\n",
       "      <td>Two Steps to Rebooting Your Resolutions</td>\n",
       "      <td>Real change can be hard to come by, and it's t...</td>\n",
       "      <td>Heidi Grant Halvorson, Ph.D., Contributor\\nAut...</td>\n",
       "      <td>WELLNESS</td>\n",
       "    </tr>\n",
       "    <tr>\n",
       "      <th>4</th>\n",
       "      <td>Georgia State Senator Under Fire For Photo Wit...</td>\n",
       "      <td>Republican Michael Williams spoke at the \"Marc...</td>\n",
       "      <td>Carla Herreria</td>\n",
       "      <td>POLITICS</td>\n",
       "    </tr>\n",
       "    <tr>\n",
       "      <th>...</th>\n",
       "      <td>...</td>\n",
       "      <td>...</td>\n",
       "      <td>...</td>\n",
       "      <td>...</td>\n",
       "    </tr>\n",
       "    <tr>\n",
       "      <th>31367</th>\n",
       "      <td>The Great Cholesterol Myth</td>\n",
       "      <td>The \"Great Cholesterol Myth\" has been the foun...</td>\n",
       "      <td>Dr. Jonny Bowden, Contributor\\nPh.D., C.N.S.</td>\n",
       "      <td>WELLNESS</td>\n",
       "    </tr>\n",
       "    <tr>\n",
       "      <th>31368</th>\n",
       "      <td>7 Times The NBA Suspended A Player For Doing W...</td>\n",
       "      <td>Let's see if the league gives the Golden State...</td>\n",
       "      <td>Juliet Spies-Gans</td>\n",
       "      <td>SPORTS</td>\n",
       "    </tr>\n",
       "    <tr>\n",
       "      <th>31369</th>\n",
       "      <td>Complementary And Alternative Medicine Use Com...</td>\n",
       "      <td>\"This is something that should be discussed op...</td>\n",
       "      <td>Catherine Pearson</td>\n",
       "      <td>PARENTING</td>\n",
       "    </tr>\n",
       "    <tr>\n",
       "      <th>31370</th>\n",
       "      <td>An Art Show Dedicated Entirely To Hot Sauce Is...</td>\n",
       "      <td>Los Angeles Grocery by Patrick Martinez A new,...</td>\n",
       "      <td>Priscilla Frank</td>\n",
       "      <td>CULTURE &amp; ARTS</td>\n",
       "    </tr>\n",
       "    <tr>\n",
       "      <th>31371</th>\n",
       "      <td>Flow Downstream</td>\n",
       "      <td>Norman Fischer says, \"Life comes and goes. Lif...</td>\n",
       "      <td>Maggie Lyon, Contributor\\nWriter on wellness a...</td>\n",
       "      <td>WELLNESS</td>\n",
       "    </tr>\n",
       "  </tbody>\n",
       "</table>\n",
       "<p>31372 rows × 4 columns</p>\n",
       "</div>"
      ],
      "text/plain": [
       "                                                Headline  \\\n",
       "0      WHO Says All Countries Should Tax Sugary Drink...   \n",
       "1      This Fake Town Exists Solely To Test Driverles...   \n",
       "2      15 Different, Delicious Ways To Interpret Gree...   \n",
       "3                Two Steps to Rebooting Your Resolutions   \n",
       "4      Georgia State Senator Under Fire For Photo Wit...   \n",
       "...                                                  ...   \n",
       "31367                         The Great Cholesterol Myth   \n",
       "31368  7 Times The NBA Suspended A Player For Doing W...   \n",
       "31369  Complementary And Alternative Medicine Use Com...   \n",
       "31370  An Art Show Dedicated Entirely To Hot Sauce Is...   \n",
       "31371                                    Flow Downstream   \n",
       "\n",
       "                                       Short Description  \\\n",
       "0      A 20 percent tax could reduce the consumption ...   \n",
       "1      Self-driving vehicles now have a neighborhood ...   \n",
       "2           Pizza, pasta, grilled cheese... you name it.   \n",
       "3      Real change can be hard to come by, and it's t...   \n",
       "4      Republican Michael Williams spoke at the \"Marc...   \n",
       "...                                                  ...   \n",
       "31367  The \"Great Cholesterol Myth\" has been the foun...   \n",
       "31368  Let's see if the league gives the Golden State...   \n",
       "31369  \"This is something that should be discussed op...   \n",
       "31370  Los Angeles Grocery by Patrick Martinez A new,...   \n",
       "31371  Norman Fischer says, \"Life comes and goes. Lif...   \n",
       "\n",
       "                                                  Author        Category  \n",
       "0                             Stephanie Nebehay, Reuters  HEALTHY LIVING  \n",
       "1                                              Jenny Che        BUSINESS  \n",
       "2                                       Julie R. Thomson    FOOD & DRINK  \n",
       "3      Heidi Grant Halvorson, Ph.D., Contributor\\nAut...        WELLNESS  \n",
       "4                                         Carla Herreria        POLITICS  \n",
       "...                                                  ...             ...  \n",
       "31367       Dr. Jonny Bowden, Contributor\\nPh.D., C.N.S.        WELLNESS  \n",
       "31368                                  Juliet Spies-Gans          SPORTS  \n",
       "31369                                  Catherine Pearson       PARENTING  \n",
       "31370                                    Priscilla Frank  CULTURE & ARTS  \n",
       "31371  Maggie Lyon, Contributor\\nWriter on wellness a...        WELLNESS  \n",
       "\n",
       "[31372 rows x 4 columns]"
      ]
     },
     "execution_count": 5,
     "metadata": {},
     "output_type": "execute_result"
    }
   ],
   "source": [
    "test_data = pd.read_csv('test.csv')  \n",
    "test_data"
   ]
  },
  {
   "cell_type": "code",
   "execution_count": 6,
   "id": "ee33cc3d",
   "metadata": {},
   "outputs": [],
   "source": [
    "test_data['combined_features'] = test_data[['Headline', 'Short Description', 'Author']].apply(lambda row: ' '.join(row.values.astype(str)), axis=1)\n",
    "test_data['combined_features'] = test_data['combined_features'].apply(preprocess_text)"
   ]
  },
  {
   "cell_type": "code",
   "execution_count": 7,
   "id": "06684466",
   "metadata": {},
   "outputs": [],
   "source": [
    "max_sequence_length = 50  \n",
    "X_test_seq = tokenizer.texts_to_sequences(test_data['combined_features'])\n",
    "X_test_padded = pad_sequences(X_test_seq, maxlen=max_sequence_length)"
   ]
  },
  {
   "cell_type": "code",
   "execution_count": 8,
   "id": "ccd499a1",
   "metadata": {},
   "outputs": [],
   "source": [
    "y_test_encoded = label_encoder.transform(test_data['Category'])\n",
    "num_classes = len(label_encoder.classes_)\n",
    "y_test_categorical = to_categorical(y_test_encoded, num_classes=num_classes)"
   ]
  },
  {
   "cell_type": "code",
   "execution_count": 9,
   "id": "bb9b1464",
   "metadata": {},
   "outputs": [
    {
     "name": "stdout",
     "output_type": "stream",
     "text": [
      "WARNING:tensorflow:From C:\\Users\\rhyth\\anaconda3\\lib\\site-packages\\keras\\src\\utils\\tf_utils.py:492: The name tf.ragged.RaggedTensorValue is deprecated. Please use tf.compat.v1.ragged.RaggedTensorValue instead.\n",
      "\n",
      "981/981 [==============================] - 12s 11ms/step - loss: 0.9282 - accuracy: 0.7469\n",
      "981/981 [==============================] - 11s 11ms/step - loss: 1.1352 - accuracy: 0.7367\n",
      "981/981 [==============================] - 11s 11ms/step - loss: 1.4041 - accuracy: 0.7314\n",
      "981/981 [==============================] - 11s 11ms/step - loss: 1.5224 - accuracy: 0.7334\n",
      "981/981 [==============================] - 11s 11ms/step - loss: 1.6849 - accuracy: 0.7323\n"
     ]
    }
   ],
   "source": [
    "accuracy_5 = model5.evaluate(X_test_padded, y_test_categorical)[1]\n",
    "accuracy_10 = model10.evaluate(X_test_padded, y_test_categorical)[1]\n",
    "accuracy_20 = model20.evaluate(X_test_padded, y_test_categorical)[1]\n",
    "accuracy_30 = model30.evaluate(X_test_padded, y_test_categorical)[1]\n",
    "accuracy_40 = model40.evaluate(X_test_padded, y_test_categorical)[1]"
   ]
  },
  {
   "cell_type": "code",
   "execution_count": 10,
   "id": "424fbb72",
   "metadata": {},
   "outputs": [
    {
     "name": "stdout",
     "output_type": "stream",
     "text": [
      "Test Accuracy for Model5: 74.69%\n",
      "Test Accuracy for Model10: 73.67%\n",
      "Test Accuracy for Model20: 73.14%\n",
      "Test Accuracy for Model30: 73.34%\n",
      "Test Accuracy for Model40: 73.23%\n"
     ]
    }
   ],
   "source": [
    "print(f\"Test Accuracy for Model5: {accuracy_5 * 100:.2f}%\")\n",
    "print(f\"Test Accuracy for Model10: {accuracy_10 * 100:.2f}%\")\n",
    "print(f\"Test Accuracy for Model20: {accuracy_20 * 100:.2f}%\")\n",
    "print(f\"Test Accuracy for Model30: {accuracy_30 * 100:.2f}%\")\n",
    "print(f\"Test Accuracy for Model40: {accuracy_40 * 100:.2f}%\")"
   ]
  },
  {
   "cell_type": "code",
   "execution_count": null,
   "id": "93b4c080",
   "metadata": {},
   "outputs": [],
   "source": []
  }
 ],
 "metadata": {
  "kernelspec": {
   "display_name": "Python 3 (ipykernel)",
   "language": "python",
   "name": "python3"
  },
  "language_info": {
   "codemirror_mode": {
    "name": "ipython",
    "version": 3
   },
   "file_extension": ".py",
   "mimetype": "text/x-python",
   "name": "python",
   "nbconvert_exporter": "python",
   "pygments_lexer": "ipython3",
   "version": "3.9.12"
  }
 },
 "nbformat": 4,
 "nbformat_minor": 5
}
